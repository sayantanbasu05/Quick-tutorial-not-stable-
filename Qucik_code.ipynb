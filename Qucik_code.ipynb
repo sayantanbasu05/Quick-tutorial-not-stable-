{
  "nbformat": 4,
  "nbformat_minor": 0,
  "metadata": {
    "colab": {
      "name": "Qucik_code.ipynb",
      "provenance": []
    },
    "kernelspec": {
      "name": "python3",
      "display_name": "Python 3"
    }
  },
  "cells": [
    {
      "cell_type": "code",
      "metadata": {
        "id": "ZGOpNk4nQVma",
        "colab_type": "code",
        "colab": {}
      },
      "source": [
        "pip install catboost"
      ],
      "execution_count": null,
      "outputs": []
    },
    {
      "cell_type": "code",
      "metadata": {
        "id": "VBK4k4yyLOVe",
        "colab_type": "code",
        "colab": {}
      },
      "source": [
        "from xgboost import XGBClassifier, XGBRegressor\n",
        "from sklearn.model_selection import train_test_split\n",
        "from sklearn.model_selection import train_test_split, KFold, StratifiedKFold\n",
        "from sklearn.metrics import accuracy_score\n",
        "from sklearn.ensemble import RandomForestClassifier, RandomForestRegressor\n",
        "from sklearn.linear_model import LogisticRegression\n",
        "import numpy as np\n",
        "from lightgbm import LGBMClassifier,LGBMRegressor\n",
        "from catboost import CatBoostClassifier,CatBoostRegressor\n",
        "from sklearn.metrics import mean_squared_log_error\n",
        "from sklearn.svm import SVR\n",
        "from sklearn.model_selection import GridSearchCV\n",
        "from sklearn.feature_extraction.text import CountVectorizer\n",
        "from sklearn.preprocessing import LabelEncoder\n",
        "from xgboost import XGBClassifier\n",
        "from sklearn.model_selection import train_test_split\n",
        "from sklearn.tree import DecisionTreeClassifier"
      ],
      "execution_count": null,
      "outputs": []
    },
    {
      "cell_type": "code",
      "metadata": {
        "id": "86TeiKg6LDGg",
        "colab_type": "code",
        "colab": {}
      },
      "source": [
        "#read files from csv\n",
        "import pandas as pd\n",
        "df_train = pd.read_csv(\"Train.csv\")\n",
        "df_test = pd.read_csv(\"Test.csv\")"
      ],
      "execution_count": null,
      "outputs": []
    },
    {
      "cell_type": "code",
      "metadata": {
        "id": "ACBk4JYFLGdJ",
        "colab_type": "code",
        "colab": {}
      },
      "source": [
        "#check for missing values\n",
        "#this prints a heatmap that shows the missing values per column\n",
        "import seaborn as sns\n",
        "sns.heatmap(df_train.isnull(), yticklabels=False, cbar=False, cmap='viridis')"
      ],
      "execution_count": null,
      "outputs": []
    },
    {
      "cell_type": "code",
      "metadata": {
        "id": "wfoiDNeDLwx5",
        "colab_type": "code",
        "colab": {}
      },
      "source": [
        "#fill midding vslues\n",
        "#considering \"Dependants\" and \"LoanAmount\" as columns\n",
        "df_train[\"Dependents\"].fillna(0, inplace=True)\n",
        "df_train[\"LoanAmount\"].fillna(df_train[\"LoanAmount\"].mean(), inplace=True)"
      ],
      "execution_count": null,
      "outputs": []
    },
    {
      "cell_type": "code",
      "metadata": {
        "id": "hKEnhk1YL7LW",
        "colab_type": "code",
        "colab": {}
      },
      "source": [
        "# convert categorical variables to labelencoded variables\n",
        "le = LabelEncoder()\n",
        "df_train[\"Gender\"] = le.fit_transform(df_train[\"Gender\"])\n",
        "df_test[\"Gender\"] = le.fit_transform(df_test[\"Gender\"])"
      ],
      "execution_count": null,
      "outputs": []
    },
    {
      "cell_type": "markdown",
      "metadata": {
        "id": "nPhbgPKRQhKP",
        "colab_type": "text"
      },
      "source": [
        "Do feature engineering.\n",
        "\n",
        "If possible generate new features by the combination of exisitng features and add them to df_train and df_test"
      ]
    },
    {
      "cell_type": "code",
      "metadata": {
        "id": "WdGXdqooQs-T",
        "colab_type": "code",
        "colab": {}
      },
      "source": [
        "#let's assume we create a new feature 'Simple_Interest' from exisitng features 'Principal', 'Rate' and 'Time'\n",
        "df_train['Simple_Interest'] = df_train['Principal'] * df_train['Rate'] * df_train['Time']\n",
        "df_test['Simple_Interest'] = df_test['Principal'] * df_test['Rate'] * df_test['Time']"
      ],
      "execution_count": null,
      "outputs": []
    },
    {
      "cell_type": "code",
      "metadata": {
        "id": "T0K1tzzhOhTS",
        "colab_type": "code",
        "colab": {}
      },
      "source": [
        "#remove the target variable from test file\n",
        "#considering Interest_Rate as target variable\n",
        "X_train, Y = df_train.drop([\"Interest_Rate\"], axis=1).values, df_train[\"Interest_Rate\"].values\n",
        "X_test = df_test.values"
      ],
      "execution_count": null,
      "outputs": []
    },
    {
      "cell_type": "markdown",
      "metadata": {
        "id": "U0OXsl06OndN",
        "colab_type": "text"
      },
      "source": [
        "Training and Predict"
      ]
    },
    {
      "cell_type": "code",
      "metadata": {
        "id": "YTN1Lj8lO8aW",
        "colab_type": "code",
        "colab": {}
      },
      "source": [
        "#use this in case the task is Classification\n",
        "model = CatBoostClassifier( random_state=27,verbose=500)\n",
        "#model = LGBMClassifier(random_state=27)\n",
        "#model = XGBClassifier(random_state=27)\n",
        "#model = DecisionTreeClassifier(random_state=27)\n",
        "#model = RandomForestClassifier(random_state=27)\n",
        "model.fit(X_train, Y)\n",
        "preds = (model.predict(X_test))\n",
        " \n",
        " \n",
        "df_submit = pd.DataFrame({'Attrition_rate': preds})\n",
        "df_submit.to_excel(\"submit.xlsx\", index=False)"
      ],
      "execution_count": null,
      "outputs": []
    },
    {
      "cell_type": "code",
      "metadata": {
        "id": "3R8kMfShQDBO",
        "colab_type": "code",
        "colab": {}
      },
      "source": [
        "#use this in case the task is Regression\n",
        "model = CatBoostRegressor( random_state=27,verbose=500)\n",
        "#model = LGBMRegressor(random_state=27)\n",
        "#model = XGBRegressor(random_state=27)\n",
        "#model = DecisionTreeRegressor(random_state=27)\n",
        "#model = RandomForestRegressor(random_state=27)\n",
        "model.fit(X_train, Y)\n",
        "preds = (model.predict(X_test))\n",
        " \n",
        " \n",
        "df_submit = pd.DataFrame({'Attrition_rate': preds})\n",
        "df_submit.to_excel(\"submit.xlsx\", index=False)"
      ],
      "execution_count": null,
      "outputs": []
    }
  ]
}